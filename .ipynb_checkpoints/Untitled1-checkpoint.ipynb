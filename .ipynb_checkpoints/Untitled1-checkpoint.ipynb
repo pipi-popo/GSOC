{
 "cells": [
  {
   "cell_type": "markdown",
   "metadata": {},
   "source": [
    "## Spatial Analysis of EnviroCar Track Data"
   ]
  },
  {
   "cell_type": "markdown",
   "metadata": {},
   "source": [
    "<h2>The final toolbox would have the following features:</\n",
    "    A functionality that can list out the various tracks\n",
    " A functionality to request from the enviroCar API and encode in different formats like geojson and shp.\n",
    "Functionality to export data in different formats leveraging on the internal functions of geopandas\n",
    "Taking coordinates from the each and map matching using enviro car map matching service or any other map mapping algorithm like HMM\n",
    "Functionality for plotting map leveraging on the geopandas and gdal library specifically.\n",
    "Spatial relations between tracks and the underlying road network\n",
    "Traditional machine learning algorithms"
   ]
  },
  {
   "cell_type": "code",
   "execution_count": 1,
   "metadata": {},
   "outputs": [],
   "source": [
    "import pandas as pd\n",
    "import geopandas as gpd\n",
    "import numpy as np\n",
    "import scipy \n",
    "import seaborn as sns\n",
    "import os\n",
    "import json\n",
    "import urllib.request\n",
    "#import warnings\n",
    "#warnings.filterwarnings(\"ignore\")"
   ]
  },
  {
   "cell_type": "markdown",
   "metadata": {},
   "source": [
    "## API requests"
   ]
  },
  {
   "cell_type": "code",
   "execution_count": 2,
   "metadata": {},
   "outputs": [],
   "source": [
    "def get_tracks_list():\n",
    "    #returns a lsit of all tracks\n",
    "    response = urllib.request.urlopen(\"https://envirocar.org/api/stable/tracks/\")\n",
    "    data = json.loads(response.read().decode())\n",
    "    tracks_api = data[\"tracks\"]\n",
    "    return [block[\"id\"] for block in tracks_api]\n",
    "\n",
    "\n",
    "def get_track(track_id):\n",
    "    #returns shapefile for the track id inputed\n",
    "    return (str(\"https://envirocar.org/api/stable/tracks/\"+str(track_id)+\".shp\"))"
   ]
  },
  {
   "cell_type": "code",
   "execution_count": 3,
   "metadata": {},
   "outputs": [],
   "source": [
    "tracks_list = get_tracks_list()\n",
    "file = str(get_track(tracks_list[6]))\n",
    "file_2 = str(get_track(tracks_list[7]))"
   ]
  },
  {
   "cell_type": "code",
   "execution_count": 4,
   "metadata": {},
   "outputs": [],
   "source": [
    "track = gpd.read_file(file)\n",
    "track_2 = gpd.read_file(file_2)"
   ]
  },
  {
   "cell_type": "code",
   "execution_count": 5,
   "metadata": {},
   "outputs": [
    {
     "data": {
      "text/html": [
       "<div>\n",
       "<style scoped>\n",
       "    .dataframe tbody tr th:only-of-type {\n",
       "        vertical-align: middle;\n",
       "    }\n",
       "\n",
       "    .dataframe tbody tr th {\n",
       "        vertical-align: top;\n",
       "    }\n",
       "\n",
       "    .dataframe thead th {\n",
       "        text-align: right;\n",
       "    }\n",
       "</style>\n",
       "<table border=\"1\" class=\"dataframe\">\n",
       "  <thead>\n",
       "    <tr style=\"text-align: right;\">\n",
       "      <th></th>\n",
       "      <th>id</th>\n",
       "      <th>time</th>\n",
       "      <th>O2 Lambda</th>\n",
       "      <th>GPS HDOP(p</th>\n",
       "      <th>GPS Bearin</th>\n",
       "      <th>GPS Altitu</th>\n",
       "      <th>MAF(l/s)</th>\n",
       "      <th>Speed(km/h</th>\n",
       "      <th>GPS Speed(</th>\n",
       "      <th>Rpm(u/min)</th>\n",
       "      <th>Throttle P</th>\n",
       "      <th>GPS VDOP(p</th>\n",
       "      <th>O2 Lambda1</th>\n",
       "      <th>Intake Pre</th>\n",
       "      <th>GPS Accura</th>\n",
       "      <th>GPS PDOP(p</th>\n",
       "      <th>Intake Tem</th>\n",
       "      <th>Engine Loa</th>\n",
       "      <th>geometry</th>\n",
       "    </tr>\n",
       "  </thead>\n",
       "  <tbody>\n",
       "    <tr>\n",
       "      <th>0</th>\n",
       "      <td>5c9c5c1044ea85030296184e</td>\n",
       "      <td>2019-03-27T17:36:13.000Z</td>\n",
       "      <td>0.0</td>\n",
       "      <td>0.849999974668026</td>\n",
       "      <td>46.70648670383264</td>\n",
       "      <td>49.65262467563152</td>\n",
       "      <td>7.64068090314268</td>\n",
       "      <td>9.00000013411045</td>\n",
       "      <td>8.355424236507673</td>\n",
       "      <td>907.6421799063683</td>\n",
       "      <td>87.99999737739563</td>\n",
       "      <td>1.2252692347764969</td>\n",
       "      <td>0.0</td>\n",
       "      <td>102.00000151991844</td>\n",
       "      <td>2.199999982118605</td>\n",
       "      <td>1.4899999555945396</td>\n",
       "      <td>13.0</td>\n",
       "      <td>23.641035982802066</td>\n",
       "      <td>POINT (7.811944152698866 51.68072030153816)</td>\n",
       "    </tr>\n",
       "    <tr>\n",
       "      <th>1</th>\n",
       "      <td>5c9c5c1044ea850302961850</td>\n",
       "      <td>2019-03-27T17:36:18.000Z</td>\n",
       "      <td>0.0</td>\n",
       "      <td>0.85</td>\n",
       "      <td>32.09322448314964</td>\n",
       "      <td>50.5043403506279</td>\n",
       "      <td>7.7061090097543</td>\n",
       "      <td>8.00000013411045</td>\n",
       "      <td>7.4824199402795415</td>\n",
       "      <td>908.682926774025</td>\n",
       "      <td>88.0</td>\n",
       "      <td>1.22</td>\n",
       "      <td>0.0</td>\n",
       "      <td>101.99999696016312</td>\n",
       "      <td>2.3000000208616243</td>\n",
       "      <td>1.49</td>\n",
       "      <td>12.999999806284904</td>\n",
       "      <td>23.318286822052926</td>\n",
       "      <td>POINT (7.812042407403587 51.68081943965718)</td>\n",
       "    </tr>\n",
       "    <tr>\n",
       "      <th>2</th>\n",
       "      <td>5c9c5c1044ea850302961851</td>\n",
       "      <td>2019-03-27T17:36:23.000Z</td>\n",
       "      <td>0.0</td>\n",
       "      <td>0.8400000250339508</td>\n",
       "      <td>30.348740039660242</td>\n",
       "      <td>49.59763779640198</td>\n",
       "      <td>9.517451195951224</td>\n",
       "      <td>2.0</td>\n",
       "      <td>0.0</td>\n",
       "      <td>962.0748229697347</td>\n",
       "      <td>88.0</td>\n",
       "      <td>0.7700000229477882</td>\n",
       "      <td>0.0</td>\n",
       "      <td>102.00000151991844</td>\n",
       "      <td>2.4000000953674316</td>\n",
       "      <td>1.1400000339746474</td>\n",
       "      <td>12.999999903142452</td>\n",
       "      <td>37.40471421590746</td>\n",
       "      <td>POINT (7.812083412073452 51.68086170603674)</td>\n",
       "    </tr>\n",
       "    <tr>\n",
       "      <th>3</th>\n",
       "      <td>5c9c5c1044ea850302961852</td>\n",
       "      <td>2019-03-27T17:36:28.000Z</td>\n",
       "      <td>0.0</td>\n",
       "      <td>0.85</td>\n",
       "      <td>183.19235914025</td>\n",
       "      <td>49.49999852478504</td>\n",
       "      <td>25.077699309694765</td>\n",
       "      <td>15.233215492218733</td>\n",
       "      <td>3.22235042004975</td>\n",
       "      <td>1515.5959253460169</td>\n",
       "      <td>87.99999737739563</td>\n",
       "      <td>1.22</td>\n",
       "      <td>0.0</td>\n",
       "      <td>128.2207791209221</td>\n",
       "      <td>2.348466817331598</td>\n",
       "      <td>1.49</td>\n",
       "      <td>12.999999709427357</td>\n",
       "      <td>24.371069109179643</td>\n",
       "      <td>POINT (7.812086433848341 51.68088521877463)</td>\n",
       "    </tr>\n",
       "    <tr>\n",
       "      <th>4</th>\n",
       "      <td>5c9c5c1044ea850302961853</td>\n",
       "      <td>2019-03-27T17:36:33.000Z</td>\n",
       "      <td>0.0</td>\n",
       "      <td>0.8802702963352202</td>\n",
       "      <td>323.8958160725142</td>\n",
       "      <td>49.5</td>\n",
       "      <td>21.925449957418436</td>\n",
       "      <td>34.18886248767376</td>\n",
       "      <td>32.875680710942106</td>\n",
       "      <td>1460.849941253662</td>\n",
       "      <td>87.17228335142136</td>\n",
       "      <td>1.0340540859103202</td>\n",
       "      <td>0.0</td>\n",
       "      <td>136.95178824663162</td>\n",
       "      <td>2.4000000953674316</td>\n",
       "      <td>1.3689189603924752</td>\n",
       "      <td>13.000000290572643</td>\n",
       "      <td>36.57242256788311</td>\n",
       "      <td>POINT (7.811801585481862 51.68114386341969)</td>\n",
       "    </tr>\n",
       "  </tbody>\n",
       "</table>\n",
       "</div>"
      ],
      "text/plain": [
       "                         id                      time O2 Lambda  \\\n",
       "0  5c9c5c1044ea85030296184e  2019-03-27T17:36:13.000Z       0.0   \n",
       "1  5c9c5c1044ea850302961850  2019-03-27T17:36:18.000Z       0.0   \n",
       "2  5c9c5c1044ea850302961851  2019-03-27T17:36:23.000Z       0.0   \n",
       "3  5c9c5c1044ea850302961852  2019-03-27T17:36:28.000Z       0.0   \n",
       "4  5c9c5c1044ea850302961853  2019-03-27T17:36:33.000Z       0.0   \n",
       "\n",
       "           GPS HDOP(p          GPS Bearin         GPS Altitu  \\\n",
       "0   0.849999974668026   46.70648670383264  49.65262467563152   \n",
       "1                0.85   32.09322448314964   50.5043403506279   \n",
       "2  0.8400000250339508  30.348740039660242  49.59763779640198   \n",
       "3                0.85     183.19235914025  49.49999852478504   \n",
       "4  0.8802702963352202   323.8958160725142               49.5   \n",
       "\n",
       "             MAF(l/s)          Speed(km/h          GPS Speed(  \\\n",
       "0    7.64068090314268    9.00000013411045   8.355424236507673   \n",
       "1     7.7061090097543    8.00000013411045  7.4824199402795415   \n",
       "2   9.517451195951224                 2.0                 0.0   \n",
       "3  25.077699309694765  15.233215492218733    3.22235042004975   \n",
       "4  21.925449957418436   34.18886248767376  32.875680710942106   \n",
       "\n",
       "           Rpm(u/min)         Throttle P          GPS VDOP(p O2 Lambda1  \\\n",
       "0   907.6421799063683  87.99999737739563  1.2252692347764969        0.0   \n",
       "1    908.682926774025               88.0                1.22        0.0   \n",
       "2   962.0748229697347               88.0  0.7700000229477882        0.0   \n",
       "3  1515.5959253460169  87.99999737739563                1.22        0.0   \n",
       "4   1460.849941253662  87.17228335142136  1.0340540859103202        0.0   \n",
       "\n",
       "           Intake Pre          GPS Accura          GPS PDOP(p  \\\n",
       "0  102.00000151991844   2.199999982118605  1.4899999555945396   \n",
       "1  101.99999696016312  2.3000000208616243                1.49   \n",
       "2  102.00000151991844  2.4000000953674316  1.1400000339746474   \n",
       "3   128.2207791209221   2.348466817331598                1.49   \n",
       "4  136.95178824663162  2.4000000953674316  1.3689189603924752   \n",
       "\n",
       "           Intake Tem          Engine Loa  \\\n",
       "0                13.0  23.641035982802066   \n",
       "1  12.999999806284904  23.318286822052926   \n",
       "2  12.999999903142452   37.40471421590746   \n",
       "3  12.999999709427357  24.371069109179643   \n",
       "4  13.000000290572643   36.57242256788311   \n",
       "\n",
       "                                      geometry  \n",
       "0  POINT (7.811944152698866 51.68072030153816)  \n",
       "1  POINT (7.812042407403587 51.68081943965718)  \n",
       "2  POINT (7.812083412073452 51.68086170603674)  \n",
       "3  POINT (7.812086433848341 51.68088521877463)  \n",
       "4  POINT (7.811801585481862 51.68114386341969)  "
      ]
     },
     "execution_count": 5,
     "metadata": {},
     "output_type": "execute_result"
    }
   ],
   "source": [
    "track.head(5)"
   ]
  },
  {
   "cell_type": "code",
   "execution_count": 6,
   "metadata": {},
   "outputs": [
    {
     "data": {
      "text/html": [
       "<div>\n",
       "<style scoped>\n",
       "    .dataframe tbody tr th:only-of-type {\n",
       "        vertical-align: middle;\n",
       "    }\n",
       "\n",
       "    .dataframe tbody tr th {\n",
       "        vertical-align: top;\n",
       "    }\n",
       "\n",
       "    .dataframe thead th {\n",
       "        text-align: right;\n",
       "    }\n",
       "</style>\n",
       "<table border=\"1\" class=\"dataframe\">\n",
       "  <thead>\n",
       "    <tr style=\"text-align: right;\">\n",
       "      <th></th>\n",
       "      <th>id</th>\n",
       "      <th>time</th>\n",
       "      <th>O2 Lambda</th>\n",
       "      <th>GPS Altitu</th>\n",
       "      <th>GPS Bearin</th>\n",
       "      <th>GPS HDOP(p</th>\n",
       "      <th>MAF(l/s)</th>\n",
       "      <th>Speed(km/h</th>\n",
       "      <th>GPS Speed(</th>\n",
       "      <th>Rpm(u/min)</th>\n",
       "      <th>Throttle P</th>\n",
       "      <th>GPS VDOP(p</th>\n",
       "      <th>O2 Lambda1</th>\n",
       "      <th>Intake Pre</th>\n",
       "      <th>GPS PDOP(p</th>\n",
       "      <th>GPS Accura</th>\n",
       "      <th>Intake Tem</th>\n",
       "      <th>Engine Loa</th>\n",
       "      <th>geometry</th>\n",
       "    </tr>\n",
       "  </thead>\n",
       "  <tbody>\n",
       "    <tr>\n",
       "      <th>0</th>\n",
       "      <td>5c9b0b6d44ea85030284ee9f</td>\n",
       "      <td>2019-03-27T05:06:10.000Z</td>\n",
       "      <td>0.0</td>\n",
       "      <td>64.01541456989943</td>\n",
       "      <td>340.1208885363611</td>\n",
       "      <td>0.9738090486824512</td>\n",
       "      <td>26.03482493753961</td>\n",
       "      <td>55.44863623380661</td>\n",
       "      <td>54.45596435501052</td>\n",
       "      <td>1584.7772020697594</td>\n",
       "      <td>88.00000065565109</td>\n",
       "      <td>1.711085432432592</td>\n",
       "      <td>0.0</td>\n",
       "      <td>136.71242251992226</td>\n",
       "      <td>1.9746231219545005</td>\n",
       "      <td>2.0999998498708035</td>\n",
       "      <td>6.0</td>\n",
       "      <td>30.702658439138872</td>\n",
       "      <td>POINT (7.684440320339072 51.55488214652286)</td>\n",
       "    </tr>\n",
       "    <tr>\n",
       "      <th>1</th>\n",
       "      <td>5c9b0b6d44ea85030284eea1</td>\n",
       "      <td>2019-03-27T05:06:15.000Z</td>\n",
       "      <td>0.0</td>\n",
       "      <td>63.634250418841845</td>\n",
       "      <td>338.29059651722673</td>\n",
       "      <td>1.0199999772012234</td>\n",
       "      <td>11.786297665944403</td>\n",
       "      <td>55.0</td>\n",
       "      <td>52.924476878454016</td>\n",
       "      <td>1240.2066646814346</td>\n",
       "      <td>88.00000262260437</td>\n",
       "      <td>1.81999995931983</td>\n",
       "      <td>0.0</td>\n",
       "      <td>102.0</td>\n",
       "      <td>2.0899999532848597</td>\n",
       "      <td>2.0999999359250054</td>\n",
       "      <td>5.999999821186066</td>\n",
       "      <td>20.19346352806562</td>\n",
       "      <td>POINT (7.684084057419102 51.55551002123237)</td>\n",
       "    </tr>\n",
       "    <tr>\n",
       "      <th>2</th>\n",
       "      <td>5c9b0b6d44ea85030284eea2</td>\n",
       "      <td>2019-03-27T05:06:20.000Z</td>\n",
       "      <td>0.0</td>\n",
       "      <td>63.46182146966457</td>\n",
       "      <td>339.62514925207415</td>\n",
       "      <td>0.8399999937415122</td>\n",
       "      <td>10.365385518898421</td>\n",
       "      <td>50.291044771671295</td>\n",
       "      <td>49.87647580108967</td>\n",
       "      <td>1134.3693861365318</td>\n",
       "      <td>88.00000262260437</td>\n",
       "      <td>0.869999993517995</td>\n",
       "      <td>0.0</td>\n",
       "      <td>101.99999715015292</td>\n",
       "      <td>1.2099999909847974</td>\n",
       "      <td>2.099999842047694</td>\n",
       "      <td>6.0</td>\n",
       "      <td>0.0</td>\n",
       "      <td>POINT (7.683718132831007 51.55609619380245)</td>\n",
       "    </tr>\n",
       "    <tr>\n",
       "      <th>3</th>\n",
       "      <td>5c9b0b6d44ea85030284eea3</td>\n",
       "      <td>2019-03-27T05:06:25.000Z</td>\n",
       "      <td>0.0</td>\n",
       "      <td>63.40000094473361</td>\n",
       "      <td>340.62230061902164</td>\n",
       "      <td>0.99</td>\n",
       "      <td>67.46895960671077</td>\n",
       "      <td>48.23401618003845</td>\n",
       "      <td>45.2102010422268</td>\n",
       "      <td>1844.4787259008735</td>\n",
       "      <td>88.0</td>\n",
       "      <td>1.86</td>\n",
       "      <td>0.0</td>\n",
       "      <td>205.74731549620628</td>\n",
       "      <td>2.11</td>\n",
       "      <td>2.0999999359250054</td>\n",
       "      <td>6.711425006389618</td>\n",
       "      <td>89.54874036642923</td>\n",
       "      <td>POINT (7.683414730512847 51.5566087341589)</td>\n",
       "    </tr>\n",
       "    <tr>\n",
       "      <th>4</th>\n",
       "      <td>5c9b0b6d44ea85030284eea4</td>\n",
       "      <td>2019-03-27T05:06:30.000Z</td>\n",
       "      <td>0.0</td>\n",
       "      <td>62.70000093430281</td>\n",
       "      <td>339.11909409373993</td>\n",
       "      <td>0.8501306411623955</td>\n",
       "      <td>20.484160559812608</td>\n",
       "      <td>58.11435652524233</td>\n",
       "      <td>57.701681694399895</td>\n",
       "      <td>1661.8751184046268</td>\n",
       "      <td>87.99999737739563</td>\n",
       "      <td>0.9336783815920353</td>\n",
       "      <td>0.0</td>\n",
       "      <td>118.1146441847086</td>\n",
       "      <td>1.2678894315659999</td>\n",
       "      <td>2.0999999359250054</td>\n",
       "      <td>7.000000104308128</td>\n",
       "      <td>10.687605462832835</td>\n",
       "      <td>POINT (7.683034618102312 51.55726839153709)</td>\n",
       "    </tr>\n",
       "  </tbody>\n",
       "</table>\n",
       "</div>"
      ],
      "text/plain": [
       "                         id                      time O2 Lambda  \\\n",
       "0  5c9b0b6d44ea85030284ee9f  2019-03-27T05:06:10.000Z       0.0   \n",
       "1  5c9b0b6d44ea85030284eea1  2019-03-27T05:06:15.000Z       0.0   \n",
       "2  5c9b0b6d44ea85030284eea2  2019-03-27T05:06:20.000Z       0.0   \n",
       "3  5c9b0b6d44ea85030284eea3  2019-03-27T05:06:25.000Z       0.0   \n",
       "4  5c9b0b6d44ea85030284eea4  2019-03-27T05:06:30.000Z       0.0   \n",
       "\n",
       "           GPS Altitu          GPS Bearin          GPS HDOP(p  \\\n",
       "0   64.01541456989943   340.1208885363611  0.9738090486824512   \n",
       "1  63.634250418841845  338.29059651722673  1.0199999772012234   \n",
       "2   63.46182146966457  339.62514925207415  0.8399999937415122   \n",
       "3   63.40000094473361  340.62230061902164                0.99   \n",
       "4   62.70000093430281  339.11909409373993  0.8501306411623955   \n",
       "\n",
       "             MAF(l/s)          Speed(km/h          GPS Speed(  \\\n",
       "0   26.03482493753961   55.44863623380661   54.45596435501052   \n",
       "1  11.786297665944403                55.0  52.924476878454016   \n",
       "2  10.365385518898421  50.291044771671295   49.87647580108967   \n",
       "3   67.46895960671077   48.23401618003845    45.2102010422268   \n",
       "4  20.484160559812608   58.11435652524233  57.701681694399895   \n",
       "\n",
       "           Rpm(u/min)         Throttle P          GPS VDOP(p O2 Lambda1  \\\n",
       "0  1584.7772020697594  88.00000065565109   1.711085432432592        0.0   \n",
       "1  1240.2066646814346  88.00000262260437    1.81999995931983        0.0   \n",
       "2  1134.3693861365318  88.00000262260437   0.869999993517995        0.0   \n",
       "3  1844.4787259008735               88.0                1.86        0.0   \n",
       "4  1661.8751184046268  87.99999737739563  0.9336783815920353        0.0   \n",
       "\n",
       "           Intake Pre          GPS PDOP(p          GPS Accura  \\\n",
       "0  136.71242251992226  1.9746231219545005  2.0999998498708035   \n",
       "1               102.0  2.0899999532848597  2.0999999359250054   \n",
       "2  101.99999715015292  1.2099999909847974   2.099999842047694   \n",
       "3  205.74731549620628                2.11  2.0999999359250054   \n",
       "4   118.1146441847086  1.2678894315659999  2.0999999359250054   \n",
       "\n",
       "          Intake Tem          Engine Loa  \\\n",
       "0                6.0  30.702658439138872   \n",
       "1  5.999999821186066   20.19346352806562   \n",
       "2                6.0                 0.0   \n",
       "3  6.711425006389618   89.54874036642923   \n",
       "4  7.000000104308128  10.687605462832835   \n",
       "\n",
       "                                      geometry  \n",
       "0  POINT (7.684440320339072 51.55488214652286)  \n",
       "1  POINT (7.684084057419102 51.55551002123237)  \n",
       "2  POINT (7.683718132831007 51.55609619380245)  \n",
       "3   POINT (7.683414730512847 51.5566087341589)  \n",
       "4  POINT (7.683034618102312 51.55726839153709)  "
      ]
     },
     "execution_count": 6,
     "metadata": {},
     "output_type": "execute_result"
    }
   ],
   "source": [
    "track_2.head(5)"
   ]
  },
  {
   "cell_type": "code",
   "execution_count": 7,
   "metadata": {},
   "outputs": [
    {
     "name": "stdout",
     "output_type": "stream",
     "text": [
      "object\n",
      "object\n",
      "object\n",
      "object\n",
      "object\n",
      "object\n",
      "object\n",
      "object\n",
      "object\n",
      "object\n",
      "object\n",
      "object\n",
      "object\n",
      "object\n",
      "object\n",
      "object\n",
      "object\n",
      "object\n",
      "object\n"
     ]
    }
   ],
   "source": [
    "#ensuring correct data types\n",
    "for features in track:\n",
    "    print(track[features].dtypes)"
   ]
  },
  {
   "cell_type": "code",
   "execution_count": 8,
   "metadata": {},
   "outputs": [
    {
     "data": {
      "text/plain": [
       "<matplotlib.axes._subplots.AxesSubplot at 0x1c6c3efba58>"
      ]
     },
     "execution_count": 8,
     "metadata": {},
     "output_type": "execute_result"
    },
    {
     "data": {
      "image/png": "[encoded data removed]",
      "text/plain": [
       "<Figure size 432x288 with 1 Axes>"
      ]
     },
     "metadata": {
      "needs_background": "light"
     },
     "output_type": "display_data"
    }
   ],
   "source": [
    "track.geometry.plot()"
   ]
  },
  {
   "cell_type": "code",
   "execution_count": 9,
   "metadata": {},
   "outputs": [],
   "source": [
    "track['Speed(km/h'] = track['Speed(km/h'].astype(\"float\")"
   ]
  },
  {
   "cell_type": "code",
   "execution_count": 10,
   "metadata": {},
   "outputs": [
    {
     "name": "stderr",
     "output_type": "stream",
     "text": [
      "C:\\Users\\Alaa\\Anaconda3\\lib\\site-packages\\scipy\\stats\\stats.py:1713: FutureWarning: Using a non-tuple sequence for multidimensional indexing is deprecated; use `arr[tuple(seq)]` instead of `arr[seq]`. In the future this will be interpreted as an array index, `arr[np.array(seq)]`, which will result either in an error or a different result.\n",
      "  return np.add.reduce(sorted[indexer] * weights, axis=axis) / sumval\n"
     ]
    },
    {
     "data": {
      "text/plain": [
       "<matplotlib.axes._subplots.AxesSubplot at 0x1c6c52284e0>"
      ]
     },
     "execution_count": 10,
     "metadata": {},
     "output_type": "execute_result"
    },
    {
     "data": {
      "image/png": "[encoded data removed]",
      "text/plain": [
       "<Figure size 432x288 with 1 Axes>"
      ]
     },
     "metadata": {
      "needs_background": "light"
     },
     "output_type": "display_data"
    }
   ],
   "source": [
    "#distribution of car speeds in the track\n",
    "sns.distplot(track[('Speed(km/h')], rug=True)"
   ]
  },
  {
   "cell_type": "code",
   "execution_count": 11,
   "metadata": {},
   "outputs": [
    {
     "data": {
      "text/plain": [
       "{'init': 'epsg:4326'}"
      ]
     },
     "execution_count": 11,
     "metadata": {},
     "output_type": "execute_result"
    }
   ],
   "source": [
    "track.crs"
   ]
  },
  {
   "cell_type": "code",
   "execution_count": 12,
   "metadata": {},
   "outputs": [
    {
     "ename": "NameError",
     "evalue": "name 'track_geo' is not defined",
     "output_type": "error",
     "traceback": [
      "\u001b[1;31m---------------------------------------------------------------------------\u001b[0m",
      "\u001b[1;31mNameError\u001b[0m                                 Traceback (most recent call last)",
      "\u001b[1;32m<ipython-input-12-0be27e00ee7c>\u001b[0m in \u001b[0;36m<module>\u001b[1;34m\u001b[0m\n\u001b[1;32m----> 1\u001b[1;33m \u001b[0mcom_track\u001b[0m \u001b[1;33m=\u001b[0m \u001b[0mtrack_geo\u001b[0m\u001b[1;33m\u001b[0m\u001b[1;33m\u001b[0m\u001b[0m\n\u001b[0m",
      "\u001b[1;31mNameError\u001b[0m: name 'track_geo' is not defined"
     ]
    }
   ],
   "source": [
    "com_track = track_geo"
   ]
  },
  {
   "cell_type": "code",
   "execution_count": null,
   "metadata": {},
   "outputs": [],
   "source": [
    "\n"
   ]
  }
 ],
 "metadata": {
  "kernelspec": {
   "display_name": "Python 3",
   "language": "python",
   "name": "python3"
  },
  "language_info": {
   "codemirror_mode": {
    "name": "ipython",
    "version": 3
   },
   "file_extension": ".py",
   "mimetype": "text/x-python",
   "name": "python",
   "nbconvert_exporter": "python",
   "pygments_lexer": "ipython3",
   "version": "3.7.1"
  }
 },
 "nbformat": 4,
 "nbformat_minor": 2
}
